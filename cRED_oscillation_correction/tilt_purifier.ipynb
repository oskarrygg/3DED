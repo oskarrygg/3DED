{
 "cells": [
  {
   "cell_type": "markdown",
   "metadata": {},
   "source": [
    "This is a quick script written to correct for the missing wedges of the cRED data induced by the gap time between each image acquisition. Additionally, we take care of defocussed frames such that the resulting .pts input file is in working order (Pets2 does not take into account defocussed frames)"
   ]
  },
  {
   "cell_type": "code",
   "execution_count": 1,
   "metadata": {},
   "outputs": [],
   "source": [
    "import os"
   ]
  },
  {
   "cell_type": "code",
   "execution_count": 8,
   "metadata": {},
   "outputs": [],
   "source": [
    "directory = 'E:/PhD/Pets/Fish/Fish_cRED_150cm_ARM/fish_150cm_2/tiff'"
   ]
  },
  {
   "cell_type": "code",
   "execution_count": 6,
   "metadata": {},
   "outputs": [],
   "source": [
    "#some params\n",
    "wavelength = 0.0251 \n",
    "Aperpixel = 0.005413718984556342 #calibration factor\n",
    "phi = 0 #precession angle\n",
    "G_gamma = 1.1 #detector gain\n",
    "Psi = 0.1 #variance of detector noise\n",
    "reflectionsize = 12\n",
    "binning = 1"
   ]
  },
  {
   "cell_type": "markdown",
   "metadata": {},
   "source": [
    "Generating an input file for Pets2, without tilt information"
   ]
  },
  {
   "cell_type": "code",
   "execution_count": 7,
   "metadata": {},
   "outputs": [],
   "source": [
    "content = (\n",
    "f\"lambda {wavelength}\\n\"\n",
    "\"\\n\"\n",
    "f\"aperpixel {Aperpixel}\\n\"\n",
    "\"\\n\"\n",
    "f\"phi {phi}\\n\"\n",
    "\"\\n\"\n",
    "f\"noiseparameters {G_gamma} {Psi}\\n\"\n",
    "\"\\n\"\n",
    "f\"reflectionsize {reflectionsize}\"\n",
    "\"\\n\"\n",
    "f\"bin {binning}\"\n",
    "\"\\n\"\n",
    "\"\\n\"\n",
    "\"imagelist\\n\"\n",
    ")\n",
    "for filename in os.listdir(directory):\n",
    "    if filename.endswith('.tiff'):\n",
    "        content += f\"Frames_cRED/{filename} 0 0\\n\"\n",
    "\n",
    "content += 'endimagelist'\n",
    "\n",
    "output_file = 'fish_cRED_manualinput.txt'\n",
    "\n",
    "with open(output_file, 'w') as file:\n",
    "    file.write(content)"
   ]
  },
  {
   "cell_type": "code",
   "execution_count": null,
   "metadata": {},
   "outputs": [],
   "source": []
  }
 ],
 "metadata": {
  "kernelspec": {
   "display_name": "base",
   "language": "python",
   "name": "python3"
  },
  "language_info": {
   "codemirror_mode": {
    "name": "ipython",
    "version": 3
   },
   "file_extension": ".py",
   "mimetype": "text/x-python",
   "name": "python",
   "nbconvert_exporter": "python",
   "pygments_lexer": "ipython3",
   "version": "3.8.8"
  }
 },
 "nbformat": 4,
 "nbformat_minor": 2
}
