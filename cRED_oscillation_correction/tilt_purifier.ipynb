{
 "cells": [
  {
   "cell_type": "markdown",
   "metadata": {},
   "source": [
    "This is a quick script for generating a .pts input file for Pets2 from data acquired with instamatic. The script generates a .txt file with the appropriate formatting and assigns to each frame the correct tilt angle, tanking into account defocussed frames. "
   ]
  },
  {
   "cell_type": "code",
   "execution_count": 8,
   "metadata": {},
   "outputs": [],
   "source": [
    "import os"
   ]
  },
  {
   "cell_type": "code",
   "execution_count": 9,
   "metadata": {},
   "outputs": [],
   "source": [
    "directory = 'E:/PhD/Pets/Fish/Fish_cRED_150cm_ARM/fish_150cm_2/tiff'"
   ]
  },
  {
   "cell_type": "code",
   "execution_count": 10,
   "metadata": {},
   "outputs": [],
   "source": [
    "#some params\n",
    "wavelength = 0.0251 \n",
    "Aperpixel = 0.005413718984556342 #calibration factor\n",
    "phi = 0 #precession angle\n",
    "G_gamma = 1.1 #detector gain\n",
    "Psi = 0.1 #variance of detector noise\n",
    "reflectionsize = 12\n",
    "binning = 1"
   ]
  },
  {
   "cell_type": "markdown",
   "metadata": {},
   "source": [
    "Generating the .txt input file, without tilt information"
   ]
  },
  {
   "cell_type": "code",
   "execution_count": null,
   "metadata": {},
   "outputs": [],
   "source": [
    "content = (\n",
    "f\"lambda {wavelength}\\n\"\n",
    "\"\\n\"\n",
    "f\"aperpixel {Aperpixel}\\n\"\n",
    "\"\\n\"\n",
    "f\"phi {phi}\\n\"\n",
    "\"\\n\"\n",
    "f\"noiseparameters {G_gamma} {Psi}\\n\"\n",
    "\"\\n\"\n",
    "f\"reflectionsize {reflectionsize}\\n\"\n",
    "\"\\n\"\n",
    "f\"bin {binning}\"\n",
    "\"\\n\"\n",
    "\"\\n\"\n",
    "\"imagelist\\n\"\n",
    ")\n",
    "for filename in os.listdir(directory):\n",
    "    if filename.endswith('.tiff'):\n",
    "        content += f\"tiff/{filename} 0 0\\n\"\n",
    "\n",
    "content += 'endimagelist'\n",
    "\n",
    "output_file = 'fish_cRED_manualinput.txt'\n",
    "\n",
    "with open(output_file, 'w') as file:\n",
    "    file.write(content)"
   ]
  },
  {
   "cell_type": "markdown",
   "metadata": {},
   "source": [
    "Assigning to each frame the correct tilt angle"
   ]
  },
  {
   "cell_type": "code",
   "execution_count": 12,
   "metadata": {},
   "outputs": [
    {
     "name": "stdout",
     "output_type": "stream",
     "text": [
      "Starting angle: -71.69 deg\n",
      "Ending angle: 71.54 deg\n",
      "Oscillation angle: 0.1146 deg\n"
     ]
    }
   ],
   "source": [
    "#Read the starting angle and oscillation range (tilt step) from the instamatic log file\n",
    "logpath = 'E:/PhD/Pets/Fish/Fish_cRED_150cm_ARM/fish_150cm_2/cRED_log.txt'\n",
    "\n",
    "starting_angle = None\n",
    "ending_angle = None\n",
    "oscillation_angle = None\n",
    "\n",
    "with open(logpath) as file:\n",
    "    for line in file:\n",
    "        if \"Starting angle\" in line:\n",
    "            starting_angle = float(line.split(\":\")[1].strip().split()[0])\n",
    "        elif \"Ending angle\" in line:\n",
    "            ending_angle = float(line.split(\":\")[1].strip().split()[0])\n",
    "        elif \"Oscillation angle\" in line:\n",
    "            oscillation_angle = float(line.split(\":\")[1].strip().split()[0])\n",
    "\n",
    "print(f\"Starting angle: {starting_angle} deg\")\n",
    "print(f\"Ending angle: {ending_angle} deg\")\n",
    "print(f\"Oscillation angle: {oscillation_angle} deg\")"
   ]
  },
  {
   "cell_type": "code",
   "execution_count": 6,
   "metadata": {},
   "outputs": [],
   "source": [
    "#General search for other params:\n",
    "\n",
    "def param_search(path, parameter):\n",
    "    param = None\n",
    "    with open(path) as file:\n",
    "        for line in file:\n",
    "            if parameter in line:\n",
    "                param = float(line.split(\":\")[1].strip().split()[0])\n",
    "    return param\n"
   ]
  },
  {
   "cell_type": "code",
   "execution_count": 13,
   "metadata": {},
   "outputs": [],
   "source": [
    "#Setting the tilt angle for each frame to be [starting_angle + {frame index -1}*oscillation_angle]\n",
    "\n",
    "with open('fish_cRED_manualinput.txt', 'r') as file:\n",
    "    lines = file.readlines()\n",
    "\n",
    "modified_lines = []\n",
    "in_imagelist = False\n",
    "\n",
    "for line in lines:\n",
    "    partition = line.split()\n",
    "    if \"imagelist\" in line:\n",
    "        in_imagelist = True\n",
    "    if in_imagelist:    \n",
    "        if len(partition) == 3:\n",
    "            frame_index = int(partition[0].split('/')[-1].split('.')[0])\n",
    "            partition[1] = f\"{starting_angle + ((frame_index -1)*oscillation_angle):.2f}\"\n",
    "            frame_index += 1\n",
    "        modified_lines.append(' '.join(partition) + '\\n')\n",
    "    else:\n",
    "        modified_lines.append(line)\n",
    "\n",
    "with open('fish_cRED_manualinput.txt', 'w') as file:\n",
    "    file.write(''.join(modified_lines))\n",
    "\n"
   ]
  },
  {
   "cell_type": "code",
   "execution_count": 1,
   "metadata": {},
   "outputs": [],
   "source": [
    "#check if the last tilt value matches ending_angle\n",
    "with open('fish_cRED_manualinput.txt', 'r') as file:\n",
    "    lines = file.readlines()\n",
    "\n",
    "endlist_index = lines.index('endimagelist\\n')\n",
    "\n",
    "end_frame = lines[endlist_index -1]\n",
    "\n",
    "end_frame_angle = end_frame.split()[1]"
   ]
  },
  {
   "cell_type": "code",
   "execution_count": 7,
   "metadata": {},
   "outputs": [
    {
     "data": {
      "text/plain": [
       "True"
      ]
     },
     "execution_count": 7,
     "metadata": {},
     "output_type": "execute_result"
    }
   ],
   "source": [
    "abs(float(ending_angle) - float(end_frame_angle)) <= 0.1"
   ]
  },
  {
   "cell_type": "code",
   "execution_count": null,
   "metadata": {},
   "outputs": [],
   "source": []
  }
 ],
 "metadata": {
  "kernelspec": {
   "display_name": "pyxem",
   "language": "python",
   "name": "python3"
  },
  "language_info": {
   "codemirror_mode": {
    "name": "ipython",
    "version": 3
   },
   "file_extension": ".py",
   "mimetype": "text/x-python",
   "name": "python",
   "nbconvert_exporter": "python",
   "pygments_lexer": "ipython3",
   "version": "3.11.9"
  }
 },
 "nbformat": 4,
 "nbformat_minor": 2
}
