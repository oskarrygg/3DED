{
 "cells": [
  {
   "cell_type": "markdown",
   "metadata": {},
   "source": [
    "Generate a .txt file containing the coordinates of pixels within the cross on the detector"
   ]
  },
  {
   "cell_type": "code",
   "execution_count": 6,
   "metadata": {},
   "outputs": [],
   "source": [
    "def generate_cross_coordinates(detector_size, cross_width):\n",
    "    center = detector_size // 2\n",
    "    coordinates = []\n",
    "\n",
    "    for i in range(center - cross_width//2, center + cross_width//2 + 1):\n",
    "        for j in range(detector_size):\n",
    "            coordinates.append((i+1, j+1))\n",
    "    \n",
    "    for j in range(center + cross_width//2, center + cross_width//2 +1):\n",
    "        for i in range(detector_size):\n",
    "            coordinates.append((i+1, j+1))\n",
    "    \n",
    "    return coordinates"
   ]
  },
  {
   "cell_type": "code",
   "execution_count": 12,
   "metadata": {},
   "outputs": [],
   "source": [
    "cross_coords = generate_cross_coordinates(512, 4)\n",
    "\n",
    "with open('cross_pixels.txt', 'w') as file:\n",
    "    for coord in cross_coords:\n",
    "        file.write(f\"{coord[0]} {coord[1]}\\n\")\n"
   ]
  },
  {
   "cell_type": "code",
   "execution_count": null,
   "metadata": {},
   "outputs": [],
   "source": []
  }
 ],
 "metadata": {
  "kernelspec": {
   "display_name": "pyxem",
   "language": "python",
   "name": "python3"
  },
  "language_info": {
   "codemirror_mode": {
    "name": "ipython",
    "version": 3
   },
   "file_extension": ".py",
   "mimetype": "text/x-python",
   "name": "python",
   "nbconvert_exporter": "python",
   "pygments_lexer": "ipython3",
   "version": "3.11.9"
  }
 },
 "nbformat": 4,
 "nbformat_minor": 2
}
